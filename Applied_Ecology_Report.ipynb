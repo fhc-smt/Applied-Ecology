{
  "nbformat": 4,
  "nbformat_minor": 0,
  "metadata": {
    "colab": {
      "provenance": [],
      "authorship_tag": "ABX9TyP+OLHEH+664vVo1asqgE8Z",
      "include_colab_link": true
    },
    "kernelspec": {
      "name": "python3",
      "display_name": "Python 3"
    },
    "language_info": {
      "name": "python"
    }
  },
  "cells": [
    {
      "cell_type": "markdown",
      "metadata": {
        "id": "view-in-github",
        "colab_type": "text"
      },
      "source": [
        "<a href=\"https://colab.research.google.com/github/fhc-smt/Applied-Ecology/blob/main/Applied_Ecology_Report.ipynb\" target=\"_parent\"><img src=\"https://colab.research.google.com/assets/colab-badge.svg\" alt=\"Open In Colab\"/></a>"
      ]
    },
    {
      "cell_type": "markdown",
      "source": [
        "##Import Data and Cleaning"
      ],
      "metadata": {
        "id": "j7K4H28i5kOw"
      }
    },
    {
      "cell_type": "code",
      "source": [
        "import pandas as pd\n",
        "import matplotlib.pyplot as plt\n",
        "import seaborn as sns"
      ],
      "metadata": {
        "id": "S9ARFnekEb2w"
      },
      "execution_count": 13,
      "outputs": []
    },
    {
      "cell_type": "code",
      "execution_count": 14,
      "metadata": {
        "id": "BTCl1NRpw61x",
        "colab": {
          "base_uri": "https://localhost:8080/"
        },
        "outputId": "b04ce86b-d333-49e7-aa3e-b4be2958704c"
      },
      "outputs": [
        {
          "output_type": "stream",
          "name": "stdout",
          "text": [
            "   tree_id          species plot_type        dbh  height         agb   lai  \\\n",
            "0        1      Picea Abies     Mixed   3.501409     3.5    1.580764  6.41   \n",
            "1        2      Picea Abies     Mixed  12.095776    10.3   34.912901  6.41   \n",
            "2        3  Fagus Sylvatica     Mixed   1.591549     3.9    0.329498  6.41   \n",
            "3        4  Fagus Sylvatica     Mixed   7.002817     9.9   13.961873  6.41   \n",
            "4        5       Abies Alba     Mixed  21.008452    14.2  121.931366  6.41   \n",
            "\n",
            "   shannon  soil_pH   ibp  group  \n",
            "0  1.17106     4.89  25.0      1  \n",
            "1  1.17106     4.89  25.0      1  \n",
            "2  1.17106     4.89  25.0      1  \n",
            "3  1.17106     4.89  25.0      1  \n",
            "4  1.17106     4.89  25.0      1  \n",
            "Index(['tree_id', 'species', 'plot_type', 'dbh', 'height', 'agb', 'lai',\n",
            "       'shannon', 'soil_pH', 'ibp', 'group'],\n",
            "      dtype='object')\n"
          ]
        }
      ],
      "source": [
        "url = \"https://raw.githubusercontent.com/fhc-smt/Applied-Ecology/6252407752cea1aa71e90e9cd5a0887a6ee4f929/Datasheet%20for%20fieldwork_Combined_Group%201.xlsx\"\n",
        "\n",
        "# Read with second row as header\n",
        "df_eco = pd.read_excel(url, header=1)\n",
        "\n",
        "# Rename columns (simplier)\n",
        "df_eco = df_eco.rename(columns={\n",
        "    \"Tree #\": \"tree_id\",\n",
        "    \"Species (latin name)\": \"species\",\n",
        "    \"Plot (mixed vs. mono)\": \"plot_type\",\n",
        "    \"DBH (in cm)\": \"dbh\",\n",
        "    \"Height (in m)\": \"height\",\n",
        "    \"Aboveground biomass (in kg)\": \"agb\",\n",
        "    \"LAI (m²/m²)\": \"lai\",\n",
        "    \"Shannon index\": \"shannon\",\n",
        "    \"Soil pH\": \"soil_pH\",\n",
        "    \"IBP\": \"ibp\",\n",
        "    \"Group\": \"group\"\n",
        "})\n",
        "\n",
        "# Quick check\n",
        "print(df_eco.head())\n",
        "print(df_eco.columns)"
      ]
    },
    {
      "cell_type": "code",
      "source": [
        "numeric_cols = [\"dbh\", \"height\", \"agb\", \"lai\", \"shannon\", \"soil_pH\", \"ibp\"]\n",
        "tree_cols = [\"tree_id\", \"species\", \"plot_type\", \"dbh\", \"height\", \"agb\"]\n",
        "tree_num_cols = [\"dbh\", \"height\", \"agb\"]\n",
        "plot_cols = [\"lai\", \"shannon\", \"soil_pH\", \"ibp\"]"
      ],
      "metadata": {
        "id": "m_Jgfro93X6C"
      },
      "execution_count": 15,
      "outputs": []
    },
    {
      "cell_type": "code",
      "source": [
        "# Drop missing value rows and mort trees:\n",
        "df_eco = (\n",
        "    df_eco\n",
        "    # drop rows with missing numeric values\n",
        "    .dropna(subset=numeric_cols)\n",
        "    # drop rows where species contains \"(mort)\"\n",
        "    .loc[~df_eco[\"species\"].str.contains(r\"\\(mort\\)\", case=False, na=False)]\n",
        "    # reset index\n",
        "    .reset_index(drop=True)\n",
        ")\n",
        "\n",
        "print(df_eco.info())\n",
        "print(df_eco.head())"
      ],
      "metadata": {
        "colab": {
          "base_uri": "https://localhost:8080/"
        },
        "id": "a-Kt-GnP2ji0",
        "outputId": "04589592-ccd2-48ed-f2a3-ec0361e0ba56"
      },
      "execution_count": 16,
      "outputs": [
        {
          "output_type": "stream",
          "name": "stdout",
          "text": [
            "<class 'pandas.core.frame.DataFrame'>\n",
            "RangeIndex: 191 entries, 0 to 190\n",
            "Data columns (total 11 columns):\n",
            " #   Column     Non-Null Count  Dtype  \n",
            "---  ------     --------------  -----  \n",
            " 0   tree_id    191 non-null    int64  \n",
            " 1   species    191 non-null    object \n",
            " 2   plot_type  191 non-null    object \n",
            " 3   dbh        191 non-null    float64\n",
            " 4   height     191 non-null    float64\n",
            " 5   agb        191 non-null    float64\n",
            " 6   lai        191 non-null    float64\n",
            " 7   shannon    191 non-null    float64\n",
            " 8   soil_pH    191 non-null    float64\n",
            " 9   ibp        191 non-null    float64\n",
            " 10  group      191 non-null    int64  \n",
            "dtypes: float64(7), int64(2), object(2)\n",
            "memory usage: 16.5+ KB\n",
            "None\n",
            "   tree_id          species plot_type        dbh  height         agb   lai  \\\n",
            "0        1      Picea Abies     Mixed   3.501409     3.5    1.580764  6.41   \n",
            "1        2      Picea Abies     Mixed  12.095776    10.3   34.912901  6.41   \n",
            "2        3  Fagus Sylvatica     Mixed   1.591549     3.9    0.329498  6.41   \n",
            "3        4  Fagus Sylvatica     Mixed   7.002817     9.9   13.961873  6.41   \n",
            "4        5       Abies Alba     Mixed  21.008452    14.2  121.931366  6.41   \n",
            "\n",
            "   shannon  soil_pH   ibp  group  \n",
            "0  1.17106     4.89  25.0      1  \n",
            "1  1.17106     4.89  25.0      1  \n",
            "2  1.17106     4.89  25.0      1  \n",
            "3  1.17106     4.89  25.0      1  \n",
            "4  1.17106     4.89  25.0      1  \n"
          ]
        }
      ]
    },
    {
      "cell_type": "markdown",
      "source": [
        "## Tree-level metrics"
      ],
      "metadata": {
        "id": "HlR761wx54qG"
      }
    },
    {
      "cell_type": "code",
      "source": [
        "# species counts by plot\n",
        "species_counts = (\n",
        "    df_eco.groupby([\"plot_type\", \"species\"])\n",
        "    .size()\n",
        "    .reset_index(name=\"count\")\n",
        "    .sort_values(by=[\"plot_type\", \"count\"], ascending=[True, False])\n",
        ")\n",
        "\n",
        "print(species_counts)"
      ],
      "metadata": {
        "colab": {
          "base_uri": "https://localhost:8080/"
        },
        "id": "1EQH2-Zf25lJ",
        "outputId": "e017db7d-d3ef-4168-9ffa-d46df17fe11c"
      },
      "execution_count": 17,
      "outputs": [
        {
          "output_type": "stream",
          "name": "stdout",
          "text": [
            "   plot_type            species  count\n",
            "2      Mixed    Fagus Sylvatica     43\n",
            "4      Mixed        Picea Abies     35\n",
            "0      Mixed         Abies Alba     19\n",
            "6      Mixed      Quercus Robur      3\n",
            "1      Mixed    Castanea Sativa      2\n",
            "3      Mixed              Picea      2\n",
            "5      Mixed    Quercus Petraea      1\n",
            "7       Mono         Abies Alba     28\n",
            "14      Mono        Picea Abies     22\n",
            "12      Mono    Fagus Sylvatica      9\n",
            "13      Mono              Picea      9\n",
            "15      Mono   Pinus Sylvestris      8\n",
            "11      Mono   Corylus Avellana      4\n",
            "8       Mono   Castanea Dentata      2\n",
            "9       Mono    Castanea Sativa      2\n",
            "10      Mono    Castanea sativa      1\n",
            "16      Mono  Sambucus Racemosa      1\n"
          ]
        }
      ]
    },
    {
      "cell_type": "code",
      "source": [
        "#species richness\n",
        "species_richness = df_eco.groupby(\"plot_type\")[\"species\"].nunique().reset_index(name=\"richness\")\n",
        "print(\"Species richness per plot type:\")\n",
        "print(species_richness)"
      ],
      "metadata": {
        "colab": {
          "base_uri": "https://localhost:8080/"
        },
        "id": "DswHx1tgDPtv",
        "outputId": "801f4076-e443-483e-9133-219bbf0d2c24"
      },
      "execution_count": 18,
      "outputs": [
        {
          "output_type": "stream",
          "name": "stdout",
          "text": [
            "Species richness per plot type:\n",
            "  plot_type  richness\n",
            "0     Mixed         7\n",
            "1      Mono        10\n"
          ]
        }
      ]
    },
    {
      "cell_type": "code",
      "source": [
        "summary_by_species = df_eco.groupby([\"plot_type\", \"species\"])[tree_num_cols].mean().reset_index()\n",
        "\n",
        "print(summary_by_species)"
      ],
      "metadata": {
        "colab": {
          "base_uri": "https://localhost:8080/"
        },
        "id": "v3u1cN-X3sI3",
        "outputId": "723df36e-6061-48b0-a23c-3333c04192a7"
      },
      "execution_count": 19,
      "outputs": [
        {
          "output_type": "stream",
          "name": "stdout",
          "text": [
            "   plot_type            species        dbh     height          agb\n",
            "0      Mixed         Abies Alba   9.416635   5.804211    42.504665\n",
            "1      Mixed    Castanea Sativa  27.215495  14.500000   453.996800\n",
            "2      Mixed    Fagus Sylvatica  19.269017  13.546512  1481.787316\n",
            "3      Mixed              Picea  33.581693  21.700000   551.073373\n",
            "4      Mixed        Picea Abies  10.341660   6.871143   121.350493\n",
            "5      Mixed    Quercus Petraea  66.800000  29.000000  3604.420000\n",
            "6      Mixed      Quercus Robur  53.900474  30.600000  2151.213277\n",
            "7       Mono         Abies Alba  28.755206  20.968571   534.110451\n",
            "8       Mono   Castanea Dentata   2.900000   2.750000     0.820000\n",
            "9       Mono    Castanea Sativa   2.705634   2.350000     1.530341\n",
            "10      Mono    Castanea sativa   1.051059   1.700000     2.154766\n",
            "11      Mono   Corylus Avellana   2.148974   2.897500     3.392948\n",
            "12      Mono    Fagus Sylvatica   2.149002   2.478889     1.149768\n",
            "13      Mono              Picea  27.692960  16.866667   276.117436\n",
            "14      Mono        Picea Abies  34.261654  28.181818   748.763594\n",
            "15      Mono   Pinus Sylvestris  32.586975  28.000000   803.731470\n",
            "16      Mono  Sambucus Racemosa   6.366198   6.200000    10.366287\n"
          ]
        }
      ]
    },
    {
      "cell_type": "code",
      "source": [
        "#Compare Mixed and Mono\n",
        "\n",
        "# Calculate means\n",
        "means = df_eco.groupby(\"plot_type\")[[\"dbh\", \"height\", \"agb\"]].mean().reset_index()\n",
        "print(\"Mean DBH, Height, AGB by Plot Type:\")\n",
        "print(means)\n",
        "\n",
        "# Distribution plot for AGB (boxplot)\n",
        "df_eco.boxplot(column=\"agb\", by=\"plot_type\", figsize=(6,5))\n",
        "plt.title(\"AGB Distribution by Plot Type\")\n",
        "plt.suptitle(\"\")\n",
        "plt.xlabel(\"Plot Type\")\n",
        "plt.ylabel(\"Aboveground Biomass (kg)\")\n",
        "plt.show()\n"
      ],
      "metadata": {
        "colab": {
          "base_uri": "https://localhost:8080/",
          "height": 550
        },
        "id": "F5POgTS26dtZ",
        "outputId": "a2cf49c7-e368-4724-9581-d5718038be25"
      },
      "execution_count": 20,
      "outputs": [
        {
          "output_type": "stream",
          "name": "stdout",
          "text": [
            "Mean DBH, Height, AGB by Plot Type:\n",
            "  plot_type        dbh     height         agb\n",
            "0     Mixed  16.376549  10.728286  769.903911\n",
            "1      Mono  24.597675  19.010698  469.580719\n"
          ]
        },
        {
          "output_type": "display_data",
          "data": {
            "text/plain": [
              "<Figure size 600x500 with 1 Axes>"
            ],
            "image/png": "[encoded data removed]"
          },
          "metadata": {}
        }
      ]
    },
    {
      "cell_type": "markdown",
      "source": [
        "## Plot-level metrics"
      ],
      "metadata": {
        "id": "YEr-VMwADyIo"
      }
    },
    {
      "cell_type": "code",
      "source": [
        "shannon_means = df_eco.groupby(\"plot_type\")[\"shannon\"].mean().reset_index()\n",
        "print(\"Mean Shannon index by Plot Type:\")\n",
        "print(shannon_means)"
      ],
      "metadata": {
        "colab": {
          "base_uri": "https://localhost:8080/"
        },
        "id": "vFo6HTRdD16D",
        "outputId": "ddd074ac-cb2a-436f-a357-a2ab5e83c55e"
      },
      "execution_count": 21,
      "outputs": [
        {
          "output_type": "stream",
          "name": "stdout",
          "text": [
            "Mean Shannon index by Plot Type:\n",
            "  plot_type   shannon\n",
            "0     Mixed  0.942710\n",
            "1      Mono  0.571726\n"
          ]
        }
      ]
    },
    {
      "cell_type": "code",
      "source": [
        "# Species richness per plot\n",
        "species_richness_per_plot = (\n",
        "    df_eco.groupby([\"plot_type\", \"group\"])[\"species\"]\n",
        "    .nunique()\n",
        "    .reset_index(name=\"richness\")\n",
        ")\n",
        "\n",
        "# Shannon index per plot\n",
        "shannon_per_plot = (\n",
        "    df_eco.groupby([\"plot_type\", \"group\"])[\"shannon\"]\n",
        "    .mean()\n",
        "    .reset_index(name=\"shannon_mean\")\n",
        ")\n",
        "\n",
        "# --- Plot side by side ---\n",
        "fig, axes = plt.subplots(1, 2, figsize=(12,6))\n",
        "\n",
        "# Boxplot for richness\n",
        "sns.boxplot(data=species_richness_per_plot, x=\"plot_type\", y=\"richness\", ax=axes[0], palette=\"Blues\")\n",
        "sns.stripplot(data=species_richness_per_plot, x=\"plot_type\", y=\"richness\", ax=axes[0], color=\"black\", alpha=0.6)\n",
        "axes[0].set_title(\"Species Richness per Plot\")\n",
        "axes[0].set_ylabel(\"Number of Species\")\n",
        "axes[0].set_xlabel(\"\")\n",
        "\n",
        "# Boxplot for Shannon\n",
        "sns.boxplot(data=shannon_per_plot, x=\"plot_type\", y=\"shannon_mean\", ax=axes[1], palette=\"Greens\")\n",
        "sns.stripplot(data=shannon_per_plot, x=\"plot_type\", y=\"shannon_mean\", ax=axes[1], color=\"black\", alpha=0.6)\n",
        "axes[1].set_title(\"Shannon Index per Plot\")\n",
        "axes[1].set_ylabel(\"Shannon Index (H')\")\n",
        "axes[1].set_xlabel(\"\")\n",
        "\n",
        "plt.tight_layout()\n",
        "plt.show()"
      ],
      "metadata": {
        "colab": {
          "base_uri": "https://localhost:8080/",
          "height": 756
        },
        "id": "ZbiCOlHNEVnI",
        "outputId": "edc11db5-0b67-4627-a4f2-764631bc3544"
      },
      "execution_count": 28,
      "outputs": [
        {
          "output_type": "stream",
          "name": "stderr",
          "text": [
            "/tmp/ipython-input-2212096770.py:19: FutureWarning: \n",
            "\n",
            "Passing `palette` without assigning `hue` is deprecated and will be removed in v0.14.0. Assign the `x` variable to `hue` and set `legend=False` for the same effect.\n",
            "\n",
            "  sns.boxplot(data=species_richness_per_plot, x=\"plot_type\", y=\"richness\", ax=axes[0], palette=\"Blues\")\n",
            "/tmp/ipython-input-2212096770.py:26: FutureWarning: \n",
            "\n",
            "Passing `palette` without assigning `hue` is deprecated and will be removed in v0.14.0. Assign the `x` variable to `hue` and set `legend=False` for the same effect.\n",
            "\n",
            "  sns.boxplot(data=shannon_per_plot, x=\"plot_type\", y=\"shannon_mean\", ax=axes[1], palette=\"Greens\")\n"
          ]
        },
        {
          "output_type": "display_data",
          "data": {
            "text/plain": [
              "<Figure size 1200x600 with 2 Axes>"
            ],
            "image/png": "[encoded data removed]"
          },
          "metadata": {}
        }
      ]
    }
  ]
}