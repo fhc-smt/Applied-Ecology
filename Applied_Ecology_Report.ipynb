{
  "nbformat": 4,
  "nbformat_minor": 0,
  "metadata": {
    "colab": {
      "provenance": []
    },
    "kernelspec": {
      "name": "python3",
      "display_name": "Python 3"
    },
    "language_info": {
      "name": "python"
    }
  },
  "cells": [
    {
      "cell_type": "markdown",
      "source": [
        "##Import Data and Cleaning"
      ],
      "metadata": {
        "id": "j7K4H28i5kOw"
      }
    },
    {
      "cell_type": "code",
      "execution_count": null,
      "metadata": {
        "id": "BTCl1NRpw61x",
        "colab": {
          "base_uri": "https://localhost:8080/"
        },
        "outputId": "7e2f5734-b489-46ae-8d53-fc8ac118e855"
      },
      "outputs": [
        {
          "output_type": "stream",
          "name": "stdout",
          "text": [
            "   tree_id          species plot_type        dbh  height         agb   lai  \\\n",
            "0        1      Picea Abies     Mixed   3.501409     3.5    1.580764  6.41   \n",
            "1        2      Picea Abies     Mixed  12.095776    10.3   34.912901  6.41   \n",
            "2        3  Fagus Sylvatica     Mixed   1.591549     3.9    0.329498  6.41   \n",
            "3        4  Fagus Sylvatica     Mixed   7.002817     9.9   13.961873  6.41   \n",
            "4        5       Abies Alba     Mixed  21.008452    14.2  121.931366  6.41   \n",
            "\n",
            "   shannon  soil_pH   ibp  group  \n",
            "0  1.17106     4.89  25.0      1  \n",
            "1  1.17106     4.89  25.0      1  \n",
            "2  1.17106     4.89  25.0      1  \n",
            "3  1.17106     4.89  25.0      1  \n",
            "4  1.17106     4.89  25.0      1  \n",
            "Index(['tree_id', 'species', 'plot_type', 'dbh', 'height', 'agb', 'lai',\n",
            "       'shannon', 'soil_pH', 'ibp', 'group'],\n",
            "      dtype='object')\n"
          ]
        }
      ],
      "source": [
        "import pandas as pd\n",
        "import matplotlib.pyplot as plt\n",
        "\n",
        "url = \"https://raw.githubusercontent.com/fhc-smt/Applied-Ecology/6252407752cea1aa71e90e9cd5a0887a6ee4f929/Datasheet%20for%20fieldwork_Combined_Group%201.xlsx\"\n",
        "\n",
        "# Read with second row as header\n",
        "df_eco = pd.read_excel(url, header=1)\n",
        "\n",
        "# Rename columns (simplier)\n",
        "df_eco = df_eco.rename(columns={\n",
        "    \"Tree #\": \"tree_id\",\n",
        "    \"Species (latin name)\": \"species\",\n",
        "    \"Plot (mixed vs. mono)\": \"plot_type\",\n",
        "    \"DBH (in cm)\": \"dbh\",\n",
        "    \"Height (in m)\": \"height\",\n",
        "    \"Aboveground biomass (in kg)\": \"agb\",\n",
        "    \"LAI (m²/m²)\": \"lai\",\n",
        "    \"Shannon index\": \"shannon\",\n",
        "    \"Soil pH\": \"soil_pH\",\n",
        "    \"IBP\": \"ibp\",\n",
        "    \"Group\": \"group\"\n",
        "})\n",
        "\n",
        "# Quick check\n",
        "print(df_eco.head())\n",
        "print(df_eco.columns)"
      ]
    },
    {
      "cell_type": "code",
      "source": [
        "numeric_cols = [\"dbh\", \"height\", \"agb\", \"lai\", \"shannon\", \"soil_pH\", \"ibp\"]\n",
        "tree_cols = [\"tree_id\", \"species\", \"plot_type\", \"dbh\", \"height\", \"agb\"]\n",
        "tree_num_cols = [\"dbh\", \"height\", \"agb\"]\n",
        "plot_cols = [\"lai\", \"shannon\", \"soil_pH\", \"ibp\"]"
      ],
      "metadata": {
        "id": "m_Jgfro93X6C"
      },
      "execution_count": null,
      "outputs": []
    },
    {
      "cell_type": "code",
      "source": [
        "# Drop missing value rows and mort trees:\n",
        "df_eco = (\n",
        "    df_eco\n",
        "    # drop rows with missing numeric values\n",
        "    .dropna(subset=numeric_cols)\n",
        "    # drop rows where species contains \"(mort)\"\n",
        "    .loc[~df_eco[\"species\"].str.contains(r\"\\(mort\\)\", case=False, na=False)]\n",
        "    # reset index\n",
        "    .reset_index(drop=True)\n",
        ")\n",
        "\n",
        "print(df_eco.info())\n",
        "print(df_eco.head())"
      ],
      "metadata": {
        "colab": {
          "base_uri": "https://localhost:8080/"
        },
        "id": "a-Kt-GnP2ji0",
        "outputId": "1560d8be-f563-4faf-b884-1774f1fc580a"
      },
      "execution_count": null,
      "outputs": [
        {
          "output_type": "stream",
          "name": "stdout",
          "text": [
            "<class 'pandas.core.frame.DataFrame'>\n",
            "RangeIndex: 191 entries, 0 to 190\n",
            "Data columns (total 11 columns):\n",
            " #   Column     Non-Null Count  Dtype  \n",
            "---  ------     --------------  -----  \n",
            " 0   tree_id    191 non-null    int64  \n",
            " 1   species    191 non-null    object \n",
            " 2   plot_type  191 non-null    object \n",
            " 3   dbh        191 non-null    float64\n",
            " 4   height     191 non-null    float64\n",
            " 5   agb        191 non-null    float64\n",
            " 6   lai        191 non-null    float64\n",
            " 7   shannon    191 non-null    float64\n",
            " 8   soil_pH    191 non-null    float64\n",
            " 9   ibp        191 non-null    float64\n",
            " 10  group      191 non-null    int64  \n",
            "dtypes: float64(7), int64(2), object(2)\n",
            "memory usage: 16.5+ KB\n",
            "None\n",
            "   tree_id          species plot_type        dbh  height         agb   lai  \\\n",
            "0        1      Picea Abies     Mixed   3.501409     3.5    1.580764  6.41   \n",
            "1        2      Picea Abies     Mixed  12.095776    10.3   34.912901  6.41   \n",
            "2        3  Fagus Sylvatica     Mixed   1.591549     3.9    0.329498  6.41   \n",
            "3        4  Fagus Sylvatica     Mixed   7.002817     9.9   13.961873  6.41   \n",
            "4        5       Abies Alba     Mixed  21.008452    14.2  121.931366  6.41   \n",
            "\n",
            "   shannon  soil_pH   ibp  group  \n",
            "0  1.17106     4.89  25.0      1  \n",
            "1  1.17106     4.89  25.0      1  \n",
            "2  1.17106     4.89  25.0      1  \n",
            "3  1.17106     4.89  25.0      1  \n",
            "4  1.17106     4.89  25.0      1  \n"
          ]
        }
      ]
    },
    {
      "cell_type": "markdown",
      "source": [
        "## Tree-level metrics"
      ],
      "metadata": {
        "id": "HlR761wx54qG"
      }
    },
    {
      "cell_type": "code",
      "source": [
        "# Count species occurrences by plot_type\n",
        "species_counts = (\n",
        "    df_eco.groupby([\"plot_type\", \"species\"])\n",
        "    .size()\n",
        "    .reset_index(name=\"count\")\n",
        "    .sort_values(by=[\"plot_type\", \"count\"], ascending=[True, False])\n",
        ")\n",
        "\n",
        "print(species_counts)"
      ],
      "metadata": {
        "colab": {
          "base_uri": "https://localhost:8080/"
        },
        "id": "1EQH2-Zf25lJ",
        "outputId": "a0cf11ab-c309-46bc-fcd1-1e865819edca"
      },
      "execution_count": null,
      "outputs": [
        {
          "output_type": "stream",
          "name": "stdout",
          "text": [
            "   plot_type            species  count\n",
            "2      Mixed    Fagus Sylvatica     43\n",
            "4      Mixed        Picea Abies     35\n",
            "0      Mixed         Abies Alba     19\n",
            "6      Mixed      Quercus Robur      3\n",
            "1      Mixed    Castanea Sativa      2\n",
            "3      Mixed              Picea      2\n",
            "5      Mixed    Quercus Petraea      1\n",
            "7       Mono         Abies Alba     28\n",
            "14      Mono        Picea Abies     22\n",
            "12      Mono    Fagus Sylvatica      9\n",
            "13      Mono              Picea      9\n",
            "15      Mono   Pinus Sylvestris      8\n",
            "11      Mono   Corylus Avellana      4\n",
            "8       Mono   Castanea Dentata      2\n",
            "9       Mono    Castanea Sativa      2\n",
            "10      Mono    Castanea sativa      1\n",
            "16      Mono  Sambucus Racemosa      1\n"
          ]
        }
      ]
    },
    {
      "cell_type": "code",
      "source": [
        "summary_by_species = df_eco.groupby([\"plot_type\", \"species\"])[tree_num_cols].mean().reset_index()\n",
        "\n",
        "print(summary_by_species)"
      ],
      "metadata": {
        "colab": {
          "base_uri": "https://localhost:8080/"
        },
        "id": "v3u1cN-X3sI3",
        "outputId": "49a401f2-db3b-448d-9626-6d8ad5256cf8"
      },
      "execution_count": null,
      "outputs": [
        {
          "output_type": "stream",
          "name": "stdout",
          "text": [
            "   plot_type            species        dbh     height          agb\n",
            "0      Mixed         Abies Alba   9.416635   5.804211    42.504665\n",
            "1      Mixed    Castanea Sativa  27.215495  14.500000   453.996800\n",
            "2      Mixed    Fagus Sylvatica  19.269017  13.546512  1481.787316\n",
            "3      Mixed              Picea  33.581693  21.700000   551.073373\n",
            "4      Mixed        Picea Abies  10.341660   6.871143   121.350493\n",
            "5      Mixed    Quercus Petraea  66.800000  29.000000  3604.420000\n",
            "6      Mixed      Quercus Robur  53.900474  30.600000  2151.213277\n",
            "7       Mono         Abies Alba  28.755206  20.968571   534.110451\n",
            "8       Mono   Castanea Dentata   2.900000   2.750000     0.820000\n",
            "9       Mono    Castanea Sativa   2.705634   2.350000     1.530341\n",
            "10      Mono    Castanea sativa   1.051059   1.700000     2.154766\n",
            "11      Mono   Corylus Avellana   2.148974   2.897500     3.392948\n",
            "12      Mono    Fagus Sylvatica   2.149002   2.478889     1.149768\n",
            "13      Mono              Picea  27.692960  16.866667   276.117436\n",
            "14      Mono        Picea Abies  34.261654  28.181818   748.763594\n",
            "15      Mono   Pinus Sylvestris  32.586975  28.000000   803.731470\n",
            "16      Mono  Sambucus Racemosa   6.366198   6.200000    10.366287\n"
          ]
        }
      ]
    },
    {
      "cell_type": "code",
      "source": [
        "#Compare Mixed and Mono\n",
        "\n",
        "# Calculate means\n",
        "means = df_eco.groupby(\"plot_type\")[[\"dbh\", \"height\", \"agb\"]].mean().reset_index()\n",
        "print(\"Mean DBH, Height, AGB by Plot Type:\")\n",
        "print(means)\n",
        "\n",
        "# Distribution plot for AGB (boxplot)\n",
        "df_eco.boxplot(column=\"agb\", by=\"plot_type\", figsize=(6,5))\n",
        "plt.title(\"AGB Distribution by Plot Type\")\n",
        "plt.suptitle(\"\")\n",
        "plt.xlabel(\"Plot Type\")\n",
        "plt.ylabel(\"Aboveground Biomass (kg)\")\n",
        "plt.show()\n"
      ],
      "metadata": {
        "colab": {
          "base_uri": "https://localhost:8080/",
          "height": 550
        },
        "id": "F5POgTS26dtZ",
        "outputId": "75a55ee3-f9ce-4c51-f79c-eb16189aeede"
      },
      "execution_count": null,
      "outputs": [
        {
          "output_type": "stream",
          "name": "stdout",
          "text": [
            "Mean DBH, Height, AGB by Plot Type:\n",
            "  plot_type        dbh     height         agb\n",
            "0     Mixed  16.376549  10.728286  769.903911\n",
            "1      Mono  24.597675  19.010698  469.580719\n"
          ]
        },
        {
          "output_type": "display_data",
          "data": {
            "text/plain": [
              "<Figure size 600x500 with 1 Axes>"
            ],
            "image/png": "[encoded data removed]"
          },
          "metadata": {}
        }
      ]
    }
  ]
}